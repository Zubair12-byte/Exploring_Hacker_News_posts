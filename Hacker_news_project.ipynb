{
 "cells": [
  {
   "cell_type": "markdown",
   "metadata": {},
   "source": [
    "# Exploring Hacker News Posts"
   ]
  },
  {
   "cell_type": "markdown",
   "metadata": {},
   "source": [
    "In this project we're specifically interested in posts whose titles begin with either Ask HN or Show HN. \n",
    "\n",
    "* Users submit Ask HN posts to ask the Hacker News community a specific question.\n",
    "* Users submit Show HN posts to show the Hacker News community a project, product, or just generally something interesting. "
   ]
  },
  {
   "cell_type": "markdown",
   "metadata": {},
   "source": [
    "We will analyze which type of post and time receive the most comments on average i.e we need to advise on best hour to maximize the amount of comments a post receives"
   ]
  },
  {
   "cell_type": "markdown",
   "metadata": {},
   "source": [
    "Our aim is to compare these two types of posts to determine the following:\n",
    "\n",
    "1. Do Ask HN or Show HN receive more comments on average?\n",
    "2. Do posts created at a certain time receive more comments on average?"
   ]
  },
  {
   "cell_type": "code",
   "execution_count": 1,
   "metadata": {},
   "outputs": [],
   "source": [
    "from csv import reader"
   ]
  },
  {
   "cell_type": "code",
   "execution_count": 30,
   "metadata": {},
   "outputs": [],
   "source": [
    "# f = open(\"hacker_news.csv\")\n",
    "# read = reader(f)\n",
    "# hn = list(read)\n",
    "# f.close()\n",
    "\n",
    "with open(\"hacker_news.csv\") as f:\n",
    "    read = reader(f)\n",
    "    hn = list(read)"
   ]
  },
  {
   "cell_type": "code",
   "execution_count": 3,
   "metadata": {},
   "outputs": [
    {
     "data": {
      "text/plain": [
       "['id', 'title', 'url', 'num_points', 'num_comments', 'author', 'created_at']"
      ]
     },
     "execution_count": 3,
     "metadata": {},
     "output_type": "execute_result"
    }
   ],
   "source": [
    "header = hn[0]\n",
    "header"
   ]
  },
  {
   "cell_type": "code",
   "execution_count": 4,
   "metadata": {},
   "outputs": [],
   "source": [
    "hn = hn[1:]"
   ]
  },
  {
   "cell_type": "code",
   "execution_count": 5,
   "metadata": {},
   "outputs": [],
   "source": [
    "# print(hn[:10])"
   ]
  },
  {
   "cell_type": "code",
   "execution_count": 6,
   "metadata": {},
   "outputs": [],
   "source": [
    "import datetime as dt"
   ]
  },
  {
   "cell_type": "code",
   "execution_count": 7,
   "metadata": {},
   "outputs": [],
   "source": [
    "date_format = \"%m/%d/%Y %H:%M\"\n",
    "\n",
    "for i in hn:\n",
    "    i[-1] = dt.datetime.strptime(i[-1], date_format)"
   ]
  },
  {
   "cell_type": "code",
   "execution_count": 8,
   "metadata": {},
   "outputs": [],
   "source": [
    "ask_posts = []\n",
    "show_posts = []\n",
    "# other_posts = []\n",
    "\n",
    "for i in hn:\n",
    "    title = i[1]\n",
    "    if title.upper().startswith(\"ASK HN\"):\n",
    "        ask_posts.append(i)\n",
    "    elif title.upper().startswith(\"SHOW HN\"):\n",
    "        show_posts.append(i)"
   ]
  },
  {
   "cell_type": "code",
   "execution_count": 9,
   "metadata": {},
   "outputs": [
    {
     "name": "stdout",
     "output_type": "stream",
     "text": [
      "[['12296411', 'Ask HN: How to improve my personal website?', '', '2', '6', 'ahmedbaracat', datetime.datetime(2016, 8, 16, 9, 55)], ['10610020', 'Ask HN: Am I the only one outraged by Twitter shutting down share counts?', '', '28', '29', 'tkfx', datetime.datetime(2015, 11, 22, 13, 43)], ['11610310', 'Ask HN: Aby recent changes to CSS that broke mobile?', '', '1', '1', 'polskibus', datetime.datetime(2016, 5, 2, 10, 14)], ['12210105', 'Ask HN: Looking for Employee #3 How do I do it?', '', '1', '3', 'sph130', datetime.datetime(2016, 8, 2, 14, 20)], ['10394168', 'Ask HN: Someone offered to buy my browser extension from me. What now?', '', '28', '17', 'roykolak', datetime.datetime(2015, 10, 15, 16, 38)]]\n"
     ]
    }
   ],
   "source": [
    "print(ask_posts[:5])"
   ]
  },
  {
   "cell_type": "code",
   "execution_count": 10,
   "metadata": {},
   "outputs": [
    {
     "name": "stdout",
     "output_type": "stream",
     "text": [
      "[['10627194', 'Show HN: Wio Link  ESP8266 Based Web of Things Hardware Development Platform', 'https://iot.seeed.cc', '26', '22', 'kfihihc', datetime.datetime(2015, 11, 25, 14, 3)], ['10646440', 'Show HN: Something pointless I made', 'http://dn.ht/picklecat/', '747', '102', 'dhotson', datetime.datetime(2015, 11, 29, 22, 46)], ['11590768', 'Show HN: Shanhu.io, a programming playground powered by e8vm', 'https://shanhu.io', '1', '1', 'h8liu', datetime.datetime(2016, 4, 28, 18, 5)]]\n"
     ]
    }
   ],
   "source": [
    "print(show_posts[:3])"
   ]
  },
  {
   "cell_type": "code",
   "execution_count": 11,
   "metadata": {},
   "outputs": [
    {
     "name": "stdout",
     "output_type": "stream",
     "text": [
      "20099\n",
      "1744\n",
      "1162\n"
     ]
    }
   ],
   "source": [
    "print(len(hn))\n",
    "print(len(ask_posts))\n",
    "print(len(show_posts))"
   ]
  },
  {
   "cell_type": "code",
   "execution_count": 12,
   "metadata": {},
   "outputs": [
    {
     "data": {
      "text/plain": [
       "14.038417431192661"
      ]
     },
     "execution_count": 12,
     "metadata": {},
     "output_type": "execute_result"
    }
   ],
   "source": [
    "# average comments on ask hn\n",
    "\n",
    "total_num_comments = 0\n",
    "total_ask_post =1744  # or len(ask_posts)\n",
    "\n",
    "for i in ask_posts:\n",
    "    comments = int(i[4])\n",
    "    total_num_comments += comments\n",
    "    \n",
    "avg_comments_ask_posts = total_num_comments/total_ask_post\n",
    "avg_comments_ask_posts"
   ]
  },
  {
   "cell_type": "code",
   "execution_count": 13,
   "metadata": {},
   "outputs": [
    {
     "data": {
      "text/plain": [
       "10.31669535283993"
      ]
     },
     "execution_count": 13,
     "metadata": {},
     "output_type": "execute_result"
    }
   ],
   "source": [
    "# average comments on show hn\n",
    "\n",
    "total_num_comments = 0\n",
    "total_hn_post = 0  # or len(show_posts)\n",
    "\n",
    "for i in show_posts:\n",
    "    total_hn_post += 1\n",
    "    comments = int(i[4])\n",
    "    total_num_comments += comments\n",
    "    \n",
    "avg_comments_show_posts = total_num_comments/total_hn_post\n",
    "avg_comments_show_posts"
   ]
  },
  {
   "cell_type": "code",
   "execution_count": 14,
   "metadata": {},
   "outputs": [
    {
     "data": {
      "text/plain": [
       "4"
      ]
     },
     "execution_count": 14,
     "metadata": {},
     "output_type": "execute_result"
    }
   ],
   "source": [
    "hn[10][-1].hour"
   ]
  },
  {
   "cell_type": "code",
   "execution_count": 31,
   "metadata": {},
   "outputs": [],
   "source": [
    "counts_by_hour = {}\n",
    "comments_by_hour = {}\n",
    "\n",
    "for i in ask_posts:\n",
    "    hour = i[-1].hour\n",
    "    comments = int(i[4])\n",
    "    if hour not in counts_by_hour: # (counts_by_hour and comments_by_hour)\n",
    "        counts_by_hour[hour] = 1\n",
    "        comments_by_hour[hour] = comments\n",
    "    else:\n",
    "        counts_by_hour[hour] += 1\n",
    "        comments_by_hour[hour] += comments\n",
    "    "
   ]
  },
  {
   "cell_type": "code",
   "execution_count": 32,
   "metadata": {},
   "outputs": [
    {
     "name": "stdout",
     "output_type": "stream",
     "text": [
      "{9: 45, 13: 85, 10: 59, 14: 107, 16: 108, 23: 68, 12: 73, 17: 100, 15: 116, 21: 109, 20: 80, 2: 58, 18: 109, 3: 54, 5: 46, 19: 110, 1: 60, 22: 71, 8: 48, 4: 47, 0: 55, 6: 44, 7: 34, 11: 58}\n"
     ]
    }
   ],
   "source": [
    "print(counts_by_hour)"
   ]
  },
  {
   "cell_type": "code",
   "execution_count": 33,
   "metadata": {},
   "outputs": [
    {
     "name": "stdout",
     "output_type": "stream",
     "text": [
      "{9: 251, 13: 1253, 10: 793, 14: 1416, 16: 1814, 23: 543, 12: 687, 17: 1146, 15: 4477, 21: 1745, 20: 1722, 2: 1381, 18: 1439, 3: 421, 5: 464, 19: 1188, 1: 683, 22: 479, 8: 492, 4: 337, 0: 447, 6: 397, 7: 267, 11: 641}\n"
     ]
    }
   ],
   "source": [
    "print(comments_by_hour)"
   ]
  },
  {
   "cell_type": "code",
   "execution_count": 35,
   "metadata": {},
   "outputs": [],
   "source": [
    "avg_comments_by_hour = {}\n",
    "\n",
    "for hour in counts_by_hour:\n",
    "    # print(i)\n",
    "    no_of_posts = counts_by_hour[hour]\n",
    "    no_of_comments = comments_by_hour[hour]\n",
    "    avg = no_of_comments/no_of_posts\n",
    "    avg_comments_by_hour[hour] = round(avg,2)"
   ]
  },
  {
   "cell_type": "code",
   "execution_count": 36,
   "metadata": {},
   "outputs": [
    {
     "name": "stdout",
     "output_type": "stream",
     "text": [
      "{9: 5.58, 13: 14.74, 10: 13.44, 14: 13.23, 16: 16.8, 23: 7.99, 12: 9.41, 17: 11.46, 15: 38.59, 21: 16.01, 20: 21.52, 2: 23.81, 18: 13.2, 3: 7.8, 5: 10.09, 19: 10.8, 1: 11.38, 22: 6.75, 8: 10.25, 4: 7.17, 0: 8.13, 6: 9.02, 7: 7.85, 11: 11.05}\n"
     ]
    }
   ],
   "source": [
    "print(avg_comments_by_hour)"
   ]
  },
  {
   "cell_type": "code",
   "execution_count": 20,
   "metadata": {},
   "outputs": [],
   "source": [
    "# sorted(avg_comments_by_hour, key =avg_comments_by_hour.get, reverse = True)"
   ]
  },
  {
   "cell_type": "code",
   "execution_count": 21,
   "metadata": {},
   "outputs": [],
   "source": [
    "avg_comments_by_hour = []\n",
    "\n",
    "for hour in counts_by_hour:\n",
    "    # print(i)\n",
    "    no_of_posts = counts_by_hour[hour]\n",
    "    no_of_comments = comments_by_hour[hour]\n",
    "    avg = no_of_comments/no_of_posts\n",
    "    avg_comments_by_hour.append([hour,round(avg,2)])"
   ]
  },
  {
   "cell_type": "code",
   "execution_count": 22,
   "metadata": {},
   "outputs": [
    {
     "data": {
      "text/plain": [
       "[[38.59, 15],\n",
       " [23.81, 2],\n",
       " [21.52, 20],\n",
       " [16.8, 16],\n",
       " [16.01, 21],\n",
       " [14.74, 13],\n",
       " [13.44, 10],\n",
       " [13.23, 14],\n",
       " [13.2, 18],\n",
       " [11.46, 17],\n",
       " [11.38, 1],\n",
       " [11.05, 11],\n",
       " [10.8, 19],\n",
       " [10.25, 8],\n",
       " [10.09, 5],\n",
       " [9.41, 12],\n",
       " [9.02, 6],\n",
       " [8.13, 0],\n",
       " [7.99, 23],\n",
       " [7.85, 7],\n",
       " [7.8, 3],\n",
       " [7.17, 4],\n",
       " [6.75, 22],\n",
       " [5.58, 9]]"
      ]
     },
     "execution_count": 22,
     "metadata": {},
     "output_type": "execute_result"
    }
   ],
   "source": [
    "sorted(avg_comments_by_hour)\n",
    "sort_lst = []\n",
    "for i in avg_comments_by_hour:\n",
    "    sort_lst.append([i[1],i[0]])\n",
    "sorted(sort_lst, reverse = True)"
   ]
  },
  {
   "cell_type": "code",
   "execution_count": 23,
   "metadata": {},
   "outputs": [
    {
     "data": {
      "text/plain": [
       "[[15, 38.59],\n",
       " [2, 23.81],\n",
       " [20, 21.52],\n",
       " [16, 16.8],\n",
       " [21, 16.01],\n",
       " [13, 14.74],\n",
       " [10, 13.44],\n",
       " [14, 13.23],\n",
       " [18, 13.2],\n",
       " [17, 11.46],\n",
       " [1, 11.38],\n",
       " [11, 11.05],\n",
       " [19, 10.8],\n",
       " [8, 10.25],\n",
       " [5, 10.09],\n",
       " [12, 9.41],\n",
       " [6, 9.02],\n",
       " [0, 8.13],\n",
       " [23, 7.99],\n",
       " [7, 7.85],\n",
       " [3, 7.8],\n",
       " [4, 7.17],\n",
       " [22, 6.75],\n",
       " [9, 5.58]]"
      ]
     },
     "execution_count": 23,
     "metadata": {},
     "output_type": "execute_result"
    }
   ],
   "source": [
    "sort_by_avg_comments =sorted(avg_comments_by_hour, key = lambda lst:lst[1],\n",
    "                            reverse = True)\n",
    "sort_by_avg_comments"
   ]
  },
  {
   "cell_type": "code",
   "execution_count": 24,
   "metadata": {},
   "outputs": [],
   "source": [
    "# def sorting(lst):\n",
    "#     return lst[1]"
   ]
  },
  {
   "cell_type": "code",
   "execution_count": 25,
   "metadata": {},
   "outputs": [],
   "source": [
    "# sort_by_avg_comments =sorted(avg_comments_by_hour, key = sorting,\n",
    "#                             reverse = True)\n",
    "# sort_by_avg_comments"
   ]
  },
  {
   "cell_type": "code",
   "execution_count": 26,
   "metadata": {},
   "outputs": [
    {
     "name": "stdout",
     "output_type": "stream",
     "text": [
      "There are 38.59 average comments at 15:00 hours\n",
      "There are 23.81 average comments at 02:00 hours\n",
      "There are 21.52 average comments at 20:00 hours\n"
     ]
    }
   ],
   "source": [
    "# top 3 hours\n",
    "\n",
    "for hour, avg_comm in sort_by_avg_comments[:3]:\n",
    "    hour = dt.datetime.strptime(str(hour), \"%H\")\n",
    "    hour = hour.strftime(\"%H:%M\")\n",
    "#     print(\"There are {0} average comments at {1} hours\".format(avg_comm,hour))\n",
    "#     print(\"There are {0} average comments at {1} hours {1}\".format(avg_comm,hour))\n",
    "    print(\"There are {} average comments at {} hours\".format(avg_comm,hour))"
   ]
  },
  {
   "cell_type": "code",
   "execution_count": 27,
   "metadata": {},
   "outputs": [
    {
     "name": "stdout",
     "output_type": "stream",
     "text": [
      "There are 38.59 average comments at 15:00 hours\n",
      "There are 23.81 average comments at 02:00 hours\n",
      "There are 21.52 average comments at 20:00 hours\n"
     ]
    }
   ],
   "source": [
    "# top 3 hours\n",
    "\n",
    "for hour, avg_comm in sort_by_avg_comments[:3]:\n",
    "    hour = dt.datetime.strptime(str(hour), \"%H\")\n",
    "    hour = hour.strftime(\"%H:%M\")\n",
    "    print(f\"There are {avg_comm} average comments at {hour} hours\")"
   ]
  },
  {
   "cell_type": "code",
   "execution_count": 28,
   "metadata": {},
   "outputs": [
    {
     "data": {
      "text/plain": [
       "'62.07475850482993%'"
      ]
     },
     "execution_count": 28,
     "metadata": {},
     "output_type": "execute_result"
    }
   ],
   "source": [
    "str((38.59-23.81)/23.81*100) + \"%\""
   ]
  },
  {
   "cell_type": "code",
   "execution_count": 29,
   "metadata": {},
   "outputs": [
    {
     "data": {
      "text/plain": [
       "22.1407475850483"
      ]
     },
     "execution_count": 29,
     "metadata": {},
     "output_type": "execute_result"
    }
   ],
   "source": [
    "(38.59-23.81)/23.81+21.52"
   ]
  },
  {
   "cell_type": "code",
   "execution_count": null,
   "metadata": {},
   "outputs": [],
   "source": []
  }
 ],
 "metadata": {
  "kernelspec": {
   "display_name": "Python 3",
   "language": "python",
   "name": "python3"
  },
  "language_info": {
   "codemirror_mode": {
    "name": "ipython",
    "version": 3
   },
   "file_extension": ".py",
   "mimetype": "text/x-python",
   "name": "python",
   "nbconvert_exporter": "python",
   "pygments_lexer": "ipython3",
   "version": "3.7.4"
  }
 },
 "nbformat": 4,
 "nbformat_minor": 2
}
